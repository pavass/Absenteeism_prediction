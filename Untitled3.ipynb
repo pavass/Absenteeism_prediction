{
  "nbformat": 4,
  "nbformat_minor": 0,
  "metadata": {
    "colab": {
      "name": "Untitled3.ipynb",
      "provenance": [],
      "authorship_tag": "ABX9TyO0oUgdX2Tg2+woKxDBrTTH",
      "include_colab_link": true
    },
    "kernelspec": {
      "name": "python3",
      "display_name": "Python 3"
    }
  },
  "cells": [
    {
      "cell_type": "markdown",
      "metadata": {
        "id": "view-in-github",
        "colab_type": "text"
      },
      "source": [
        "<a href=\"https://colab.research.google.com/github/pavass/Absenteeism_prediction/blob/master/Untitled3.ipynb\" target=\"_parent\"><img src=\"https://colab.research.google.com/assets/colab-badge.svg\" alt=\"Open In Colab\"/></a>"
      ]
    },
    {
      "cell_type": "code",
      "metadata": {
        "id": "UhfHZY_vOjag",
        "colab_type": "code",
        "colab": {}
      },
      "source": [
        "from bs4 import BeautifulSoup as bs"
      ],
      "execution_count": 0,
      "outputs": []
    },
    {
      "cell_type": "code",
      "metadata": {
        "id": "iGI6oZ3MOyya",
        "colab_type": "code",
        "colab": {}
      },
      "source": [
        "import requests\n",
        "from requests import get"
      ],
      "execution_count": 0,
      "outputs": []
    },
    {
      "cell_type": "code",
      "metadata": {
        "id": "LPWpxlfFPD44",
        "colab_type": "code",
        "colab": {}
      },
      "source": [
        "domain='https://www.gutenberg.org'\n",
        "page=requests.get('https://www.gutenberg.org/browse/scores/top#books-last1')\n",
        "html=page.text\n",
        "soup=bs(html,'html.parser')\n"
      ],
      "execution_count": 0,
      "outputs": []
    },
    {
      "cell_type": "code",
      "metadata": {
        "id": "JV_k31eHWIW-",
        "colab_type": "code",
        "colab": {}
      },
      "source": [
        "for link in soup.find_all(''):\n",
        "  url=link.get('href')\n",
        "  if '.txt' in url:\n",
        "    print(url)\n",
        "    with open(url, \"wb\") as file:\n",
        "            response = get(domain + url)\n",
        "            file.write(response.content)\n",
        "    \n",
        "  else:\n",
        "    continue"
      ],
      "execution_count": 0,
      "outputs": []
    },
    {
      "cell_type": "code",
      "metadata": {
        "id": "W_4yUEOOZint",
        "colab_type": "code",
        "colab": {}
      },
      "source": [
        "from bs4 import BeautifulSoup as bs\n",
        "import requests"
      ],
      "execution_count": 0,
      "outputs": []
    },
    {
      "cell_type": "code",
      "metadata": {
        "id": "O1TpJ3One1j1",
        "colab_type": "code",
        "colab": {}
      },
      "source": [
        "DOMAIN='https://www.gutenberg.org'\n",
        "URL='https://www.gutenberg.org/browse/scores/top'\n",
        "\n",
        "FILETYPE='.lxml'\n"
      ],
      "execution_count": 0,
      "outputs": []
    },
    {
      "cell_type": "code",
      "metadata": {
        "id": "IK9pv-3ofGF9",
        "colab_type": "code",
        "colab": {}
      },
      "source": [
        "def get_soup(url):\n",
        "  return bs(requests.get(url).text,'html.parser')\n",
        "for link in get_soup(URL).find_all('a'):\n",
        "  file_link=link.get('href')\n",
        "  if FILETYPE in file_link:\n",
        "    print(file_link)\n",
        "    "
      ],
      "execution_count": 0,
      "outputs": []
    },
    {
      "cell_type": "code",
      "metadata": {
        "id": "TPcxGdBTf7SB",
        "colab_type": "code",
        "colab": {}
      },
      "source": [
        ""
      ],
      "execution_count": 0,
      "outputs": []
    }
  ]
}